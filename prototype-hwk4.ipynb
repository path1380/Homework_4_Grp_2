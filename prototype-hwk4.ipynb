{
 "cells": [
  {
   "cell_type": "markdown",
   "metadata": {},
   "source": [
    "# APPM 5720 - Homework 4\n",
    "\n",
    "### Part 1: Approximate $au_x$ on a simple element without BCs"
   ]
  },
  {
   "cell_type": "code",
   "execution_count": 1,
   "metadata": {
    "collapsed": true
   },
   "outputs": [],
   "source": [
    "%matplotlib inline\n",
    "\n",
    "import numpy as np\n",
    "import matplotlib.pyplot as plt"
   ]
  },
  {
   "cell_type": "code",
   "execution_count": 2,
   "metadata": {
    "collapsed": true
   },
   "outputs": [],
   "source": [
    "# Import sympy code for gauss lobatto nodes\n",
    "from sympy.core import S, Dummy, pi\n",
    "from sympy.functions.combinatorial.factorials import factorial\n",
    "from sympy.functions.elementary.trigonometric import sin, cos\n",
    "from sympy.functions.elementary.miscellaneous import sqrt\n",
    "from sympy.functions.special.gamma_functions import gamma\n",
    "from sympy.polys.orthopolys import (legendre_poly, laguerre_poly,\n",
    "                                    hermite_poly, jacobi_poly)\n",
    "from sympy.polys.rootoftools import RootOf\n",
    "from sympy.core.compatibility import range"
   ]
  },
  {
   "cell_type": "code",
   "execution_count": 3,
   "metadata": {
    "collapsed": true
   },
   "outputs": [],
   "source": [
    "def f(x):\n",
    "    return np.exp(-1*x**2)"
   ]
  },
  {
   "cell_type": "code",
   "execution_count": 41,
   "metadata": {
    "collapsed": true
   },
   "outputs": [],
   "source": [
    "def fx(x):\n",
    "    return -2*x*f(x)"
   ]
  },
  {
   "cell_type": "code",
   "execution_count": 4,
   "metadata": {
    "code_folding": [
     0
    ],
    "collapsed": true
   },
   "outputs": [],
   "source": [
    "def gauss_lobatto(n, n_digits):\n",
    "    r\"\"\"\n",
    "    Computes the Gauss-Lobatto quadrature [1]_ points and weights.\n",
    "\n",
    "    The Gauss-Lobatto quadrature approximates the integral:\n",
    "\n",
    "    .. math::\n",
    "        \\int_{-1}^1 f(x)\\,dx \\approx \\sum_{i=1}^n w_i f(x_i)\n",
    "\n",
    "    The nodes `x_i` of an order `n` quadrature rule are the roots of `P'_(n-1)`\n",
    "    and the weights `w_i` are given by:\n",
    "\n",
    "    .. math::\n",
    "        &w_i = \\frac{2}{n(n-1) \\left[P_{n-1}(x_i)\\right]^2},\\quad x\\neq\\pm 1\\\\\n",
    "        &w_i = \\frac{2}{n(n-1)},\\quad x=\\pm 1\n",
    "\n",
    "    Parameters\n",
    "    ==========\n",
    "\n",
    "    n : the order of quadrature\n",
    "\n",
    "    n_digits : number of significant digits of the points and weights to return\n",
    "\n",
    "    Returns\n",
    "    =======\n",
    "\n",
    "    (x, w) : the ``x`` and ``w`` are lists of points and weights as Floats.\n",
    "             The points `x_i` and weights `w_i` are returned as ``(x, w)``\n",
    "             tuple of lists.\n",
    "\n",
    "    Examples\n",
    "    ========\n",
    "\n",
    "    >>> from sympy.integrals.quadrature import gauss_lobatto\n",
    "    >>> x, w = gauss_lobatto(3, 5)\n",
    "    >>> x\n",
    "    [-1, 0, 1]\n",
    "    >>> w\n",
    "    [0.33333, 1.3333, 0.33333]\n",
    "    >>> x, w = gauss_lobatto(4, 5)\n",
    "    >>> x\n",
    "    [-1, -0.44721, 0.44721, 1]\n",
    "    >>> w\n",
    "    [0.16667, 0.83333, 0.83333, 0.16667]\n",
    "\n",
    "    See Also\n",
    "    ========\n",
    "\n",
    "    gauss_legendre,gauss_laguerre, gauss_gen_laguerre, gauss_hermite, gauss_chebyshev_t, gauss_chebyshev_u, gauss_jacobi\n",
    "\n",
    "    References\n",
    "    ==========\n",
    "\n",
    "    .. [1] http://en.wikipedia.org/wiki/Gaussian_quadrature#Gauss.E2.80.93Lobatto_rules\n",
    "    .. [2] http://people.math.sfu.ca/~cbm/aands/page_888.htm\n",
    "    TAKEN FROM SYMPY\n",
    "    \"\"\"\n",
    "    x = Dummy(\"x\")\n",
    "    p = legendre_poly(n-1, x, polys=True)\n",
    "    pd = p.diff(x)\n",
    "    xi = []\n",
    "    w = []\n",
    "    for r in pd.real_roots():\n",
    "        if isinstance(r, RootOf):\n",
    "            r = r.eval_rational(S(1)/10**(n_digits+2))\n",
    "        xi.append(r.n(n_digits))\n",
    "        w.append((2/(n*(n-1) * p.subs(x, r)**2)).n(n_digits))\n",
    "\n",
    "    xi.insert(0, -1)\n",
    "    xi.append(1)\n",
    "    w.insert(0, (S(2)/(n*(n-1))).n(n_digits))\n",
    "    w.append((S(2)/(n*(n-1))).n(n_digits))\n",
    "    return xi, w"
   ]
  },
  {
   "cell_type": "code",
   "execution_count": 5,
   "metadata": {
    "code_folding": [],
    "collapsed": true
   },
   "outputs": [],
   "source": [
    "def leg_eval(q,x):\n",
    "    '''\n",
    "    Evaluate Legendre polynomials of up to degree q at point x\n",
    "    '''\n",
    "    if q == 0:\n",
    "        return np.array([1])\n",
    "    elif q == 1:\n",
    "        return np.array([1,x])\n",
    "    else:\n",
    "        leg_arr = np.zeros([q])\n",
    "        leg_arr[0] = 1\n",
    "        leg_arr[1] = x\n",
    "        \n",
    "        # Recursion relation for higher order Leg. polynomials\n",
    "        for i in range(1,q-1):\n",
    "            leg_arr[i+1] = ((2*i+1)*x*leg_arr[i] - i*leg_arr[i-1])/(i+1)\n",
    "        return np.array(leg_arr)"
   ]
  },
  {
   "cell_type": "code",
   "execution_count": 16,
   "metadata": {
    "collapsed": true
   },
   "outputs": [],
   "source": [
    "def legx_eval(n,x):\n",
    "    '''\n",
    "    From Appelo Repo\n",
    "    Return 1st derivative of Legendre polynomials\n",
    "    '''\n",
    "    # Initialize\n",
    "    leg = np.zeros([n])\n",
    "    legx = np.zeros([n])\n",
    "    \n",
    "    # Legendre array\n",
    "    if n == 0:\n",
    "        leg[0] = 1\n",
    "    elif n == 1:\n",
    "        leg[0] = 1\n",
    "        leg[1] = x\n",
    "    else:\n",
    "        leg[0] = 1\n",
    "        leg[1] = x\n",
    "        for i in range(1,n-1):\n",
    "            leg[i+1] = ((2*i+1)*x*leg[i] - i*leg[i-1])/(i+1)\n",
    "            \n",
    "    # d/dx(Legendre array)\n",
    "    if n == 0:\n",
    "        legx[0] = 0\n",
    "        return legx\n",
    "    elif n == 1:\n",
    "        legx[0] = 0\n",
    "        legx[1] = 1\n",
    "        return legx\n",
    "    else:\n",
    "        legx[0] = 0\n",
    "        legx[1] = 1\n",
    "        for i in range(1,n-1):\n",
    "            legx[i+1] = legx[i-1] + (2*(i+1)-1)*legx[i]\n",
    "        return legx"
   ]
  },
  {
   "cell_type": "code",
   "execution_count": 12,
   "metadata": {
    "collapsed": true
   },
   "outputs": [],
   "source": [
    "# Parameters\n",
    "num_grdpts = 2\n",
    "num_elems = num_grdpts - 1\n",
    "num_nodes = 8\n",
    "a = 5     # arbitary value\n",
    "\n",
    "grdpts = np.array([0.0, 0.3])\n",
    "degree_vec = np.array([6, 6])\n",
    "q = degree_vec[0]"
   ]
  },
  {
   "cell_type": "code",
   "execution_count": 7,
   "metadata": {
    "collapsed": true
   },
   "outputs": [],
   "source": [
    "### --- Acquire coefficients u(hat)_k --- ###\n",
    "uh = np.zeros([degree_vec[0], num_elems])\n",
    "\n",
    "# Precompute Ldgr polynomials at LGL nodes\n",
    "r_lgl, w_lgl = gauss_lobatto(num_nodes,16)\n",
    "r_lgl, w_lgl = np.array(r_lgl), np.array(w_lgl)\n",
    "\n",
    "lgdr_arr = np.zeros([degree_vec[0], num_nodes])\n",
    "for i in range(num_nodes):\n",
    "    lgdr_arr[:,i] = leg_eval(degree_vec[0], r_lgl[i])\n",
    "\n",
    "### For a single element i\n",
    "i = 0\n",
    "xL = grdpts[i]\n",
    "xR = grdpts[i+1]\n",
    "\n",
    "# Calculate f(x(r_j))\n",
    "# Map (xL, xR) -> (-1,1)\n",
    "x_lgl = 1/2*((xR-xL)*r_lgl + (xR+xL))\n",
    "x_lgl = x_lgl.astype(float)\n",
    "\n",
    "for l in range(degree_vec[0]):\n",
    "    for j in range(num_nodes):\n",
    "        uh[l,i] += (2*l+1)/2 * w_lgl[j] * lgdr_arr[l,j] * f(x_lgl[j])"
   ]
  },
  {
   "cell_type": "code",
   "execution_count": 39,
   "metadata": {},
   "outputs": [],
   "source": [
    "### --- Acquire coefficients b(hat)_k --- ###\n",
    "### Calculate integral over element of (P_l * P'_k) through Gaussian quadrature\n",
    "S = np.zeros([q, q])            # Unsure about the dimensions... (q+1) x (q+1) maybe?\n",
    "M = np.zeros([q, q])            # \"Mass matrix\", will be diagonal\n",
    "\n",
    "# Precalculate Lgdr derivatives as LGL nodes\n",
    "lgdrx_arr = np.zeros([q, num_nodes])\n",
    "for i in range(num_nodes):\n",
    "    lgdrx_arr[:,i] = legx_eval(q, r_lgl[i])\n",
    "    \n",
    "# Gaussian quadrature\n",
    "for l in range(q):\n",
    "    for j in range(q):\n",
    "        S[j,l] = w_lgl[j] * lgdr_arr[l,j] * lgdrx_arr[l,j]\n",
    "        \n",
    "### L2 Norm of Lgdr products\n",
    "for k in range(q):\n",
    "    M[k,k] = 2/(2*k+1)\n",
    "    \n",
    "### b(hat)_k calculation\n",
    "# bh = np.dot(a*np.linalg.inv(M)*S,uh)\n",
    "bh = np.matmul(a*np.linalg.inv(M), S)\n",
    "bh = np.matmul(bh, uh)"
   ]
  },
  {
   "cell_type": "code",
   "execution_count": 50,
   "metadata": {},
   "outputs": [
    {
     "data": {
      "image/png": "[encoded data removed]",
      "text/plain": [
       "<matplotlib.figure.Figure at 0x7f21a2174b38>"
      ]
     },
     "metadata": {},
     "output_type": "display_data"
    },
    {
     "data": {
      "image/png": "[encoded data removed]",
      "text/plain": [
       "<matplotlib.figure.Figure at 0x7f219a21cb00>"
      ]
     },
     "metadata": {},
     "output_type": "display_data"
    }
   ],
   "source": [
    "### --- Visualize true fcn values to approximation --- ###\n",
    "true_fcn = fx(np.linspace(xL, xR, q))\n",
    "\n",
    "r_dom = (2*np.linspace(xL,xR, q) - (xR+xL))/(xR-xL)   #r(x) for the approximation\n",
    "approx_fcn = np.zeros([q])\n",
    "for i in range(len(r_dom)):\n",
    "    approx_lgl = leg_eval(q, r_dom[i])\n",
    "    approx_fcn[i] = np.dot(np.squeeze(bh),approx_lgl)\n",
    "    \n",
    "plt.figure()\n",
    "plt.plot(np.linspace(xL, xR, q), true_fcn)\n",
    "plt.show()\n",
    "\n",
    "plt.figure()\n",
    "plt.plot(np.linspace(xL,xR, q), approx_fcn, 'orange')\n",
    "plt.show()"
   ]
  },
  {
   "cell_type": "code",
   "execution_count": 40,
   "metadata": {},
   "outputs": [
    {
     "data": {
      "text/plain": [
       "array([[  2.59914111e-04],\n",
       "       [  1.43511331e-02],\n",
       "       [  1.03944677e-01],\n",
       "       [  2.21579341e-01],\n",
       "       [  7.45800960e-02],\n",
       "       [ -2.92545536e-01]])"
      ]
     },
     "execution_count": 40,
     "metadata": {},
     "output_type": "execute_result"
    }
   ],
   "source": [
    "bh"
   ]
  },
  {
   "cell_type": "code",
   "execution_count": null,
   "metadata": {
    "collapsed": true
   },
   "outputs": [],
   "source": []
  }
 ],
 "metadata": {
  "kernelspec": {
   "display_name": "Python 3",
   "language": "python",
   "name": "python3"
  },
  "language_info": {
   "codemirror_mode": {
    "name": "ipython",
    "version": 3
   },
   "file_extension": ".py",
   "mimetype": "text/x-python",
   "name": "python",
   "nbconvert_exporter": "python",
   "pygments_lexer": "ipython3",
   "version": "3.6.3"
  },
  "varInspector": {
   "cols": {
    "lenName": 16,
    "lenType": 16,
    "lenVar": 40
   },
   "kernels_config": {
    "python": {
     "delete_cmd_postfix": "",
     "delete_cmd_prefix": "del ",
     "library": "var_list.py",
     "varRefreshCmd": "print(var_dic_list())"
    },
    "r": {
     "delete_cmd_postfix": ") ",
     "delete_cmd_prefix": "rm(",
     "library": "var_list.r",
     "varRefreshCmd": "cat(var_dic_list()) "
    }
   },
   "types_to_exclude": [
    "module",
    "function",
    "builtin_function_or_method",
    "instance",
    "_Feature"
   ],
   "window_display": false
  }
 },
 "nbformat": 4,
 "nbformat_minor": 2
}
